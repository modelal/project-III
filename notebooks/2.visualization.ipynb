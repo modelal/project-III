{
 "cells": [
  {
   "cell_type": "code",
   "execution_count": 42,
   "id": "81fe727a",
   "metadata": {},
   "outputs": [],
   "source": [
    "from pymongo import MongoClient\n",
    "import requests\n",
    "import json\n",
    "import pandas as pd\n",
    "from getpass import getpass\n",
    "import folium\n",
    "from folium import Choropleth, Circle, Marker, Icon, Map\n",
    "from folium.plugins import HeatMap, MarkerCluster"
   ]
  },
  {
   "cell_type": "code",
   "execution_count": 43,
   "id": "aa98b87f",
   "metadata": {},
   "outputs": [],
   "source": [
    "def access_mdb_local_collection (database, collection):\n",
    "\n",
    "    \"\"\" Function that returns a collection inside a DataBase \n",
    "    host in my local Server \"\"\"\n",
    "\n",
    "    # 1. Connect to my local Server\n",
    "    client = MongoClient(\"localhost:27017\")\n",
    "    \n",
    "    # 2. Access a DataBase:\n",
    "    db = client[database]\n",
    "\n",
    "    # 3. Acces a collection inside the given DataBase\n",
    "    c = db.get_collection(collection)\n",
    "\n",
    "    # 4. Return collection into a given DataBase host in a given Server\n",
    "    return c"
   ]
  },
  {
   "cell_type": "markdown",
   "id": "9594273f",
   "metadata": {},
   "source": [
    "1. Create a map for each of the posible cities:"
   ]
  },
  {
   "cell_type": "code",
   "execution_count": 44,
   "id": "e64d4b8c",
   "metadata": {},
   "outputs": [],
   "source": [
    "locations = {\n",
    "    \"Madrid\" : [40.40841191, -3.68760088],\n",
    "    \"Barcelona\" : [41.38424664, 2.17634927],\n",
    "    \"Valencia\" : [39.47534441, -0.37565717],\n",
    "    \"Sevilla\" : [37.38620512, -5.99251368]  \n",
    "}"
   ]
  },
  {
   "cell_type": "code",
   "execution_count": 45,
   "id": "4391702d",
   "metadata": {},
   "outputs": [],
   "source": [
    "mad_map = Map(locations[\"Madrid\"], zoom_start=12, tiles='CartoDB positron')\n",
    "bcn_map = Map(locations[\"Barcelona\"], zoom_start=12, tiles='CartoDB positron')\n",
    "vlc_map = Map(locations[\"Valencia\"], zoom_start=12,  tiles='CartoDB positron')\n",
    "sev_map = Map(locations[\"Sevilla\"], zoom_start=12,  tiles='CartoDB positron')"
   ]
  },
  {
   "cell_type": "markdown",
   "id": "0c13543c",
   "metadata": {},
   "source": [
    "2. Set the markers specifications"
   ]
  },
  {
   "cell_type": "code",
   "execution_count": 46,
   "id": "10aefd9a",
   "metadata": {},
   "outputs": [],
   "source": [
    "markers = {\n",
    "    10051: [\"stadium\" , \"orange\", \"black\", \"baseball\"],\n",
    "    16033: [\"dog_park\", \"green\", \"white\", \"dog\"],\n",
    "    13377: [\"vegan_rest\", \"white\", \"green\", \"leaf\"],\n",
    "    10032: [\"nigth_club\", \"black\", \"white\", \"champagne-glasses\"]\n",
    "}"
   ]
  },
  {
   "cell_type": "markdown",
   "id": "9131550e",
   "metadata": {},
   "source": [
    "### Functions:"
   ]
  },
  {
   "cell_type": "code",
   "execution_count": 47,
   "id": "5ff366d5",
   "metadata": {},
   "outputs": [],
   "source": [
    "def extract_parameters(i):\n",
    "            \n",
    "            name = i[\"name\"]\n",
    "            \n",
    "            lat = i[\"geocodes\"][\"main\"][\"latitude\"]\n",
    "            lon = i[\"geocodes\"][\"main\"][\"longitude\"]\n",
    "            \n",
    "            # as elements can have more than one categorie\n",
    "            #we need to make sure we use the ones that we\n",
    "            #have consider in markers. We know they all have\n",
    "            #at least one of them because we extract the \n",
    "            #info from the API using categorie filter:\n",
    "            \n",
    "            \n",
    "            cat_list = [x[\"id\"] for x in i[\"categories\"]]\n",
    "            cat_code = [key for key in markers.keys() if key in cat_list][0]\n",
    "              \n",
    "            \"\"\"\n",
    "            The same before comprehension list:\n",
    "            \n",
    "            for key in markers.keys():\n",
    "                if key in cat_list\n",
    "                    cat_code = key\n",
    "                    \n",
    "            With the comprehension list, we need to acces the first \n",
    "            element -> we know there will be just one.\n",
    "            \"\"\"\n",
    "            params = {\"name\": name, \"cat_code\":cat_code, \"lat\":lat, \"lon\":lon}\n",
    "            \n",
    "            return params"
   ]
  },
  {
   "cell_type": "code",
   "execution_count": 48,
   "id": "99631229",
   "metadata": {},
   "outputs": [],
   "source": [
    "def city_places(city):\n",
    "    \n",
    "    \"Returs a dataframe with all palces inside a city from our DB\"\n",
    "    \n",
    "    c = access_mdb_local_collection (\"ironhack\", \"foursquare\")\n",
    "    \n",
    "    # 1. Set the filter to the objects --> REVIEW option just locality??¿?¿ lo de Valencia - comunidad valencia \n",
    "    filt = {\"location.locality\":city}\n",
    "    \n",
    "    # 2. Select the filds that we want to target:\n",
    "    projection = { \"_id\":0,\"categories\":1, \"geocodes\":1,\"name\":1}\n",
    "    \n",
    "    # 3. Extract data\n",
    "    datos = list(c.find(filt,projection))\n",
    "    \n",
    "    # 4. Generate an empty dictionary with the categories to save:\n",
    "    register = {\"city\": [], \"place_name\":[], \"lable\":[],\"lat\":[], \"lon\":[]}\n",
    "    \n",
    "    # 5. Iterate trowh all elements found:\n",
    "    for i in datos:\n",
    "\n",
    "        info = extract_parameters(i) # info it's a dictionary \n",
    "            # example --> info = {\"name\": name, \"cat_code\":cat_code, \"lat\":lat, \"lon\":lon}\n",
    "            \n",
    "            \n",
    "        name = info[\"name\"]\n",
    "        lable =info[\"cat_code\"]\n",
    "        lat = info[\"lat\"]\n",
    "        lon =  info[\"lon\"]\n",
    "        \n",
    "        register[\"city\"].append(city)\n",
    "        register[\"place_name\"].append(name)\n",
    "        register[\"lable\"].append(lable)\n",
    "        register[\"lat\"].append(lat)\n",
    "        register[\"lon\"].append(lon)\n",
    "\n",
    "        df = pd.DataFrame(register)\n",
    "        \n",
    "    return df"
   ]
  },
  {
   "cell_type": "code",
   "execution_count": 49,
   "id": "17030dfa",
   "metadata": {},
   "outputs": [],
   "source": [
    "def icon_set(category_code): # marker of categorye [10051]\n",
    "    \n",
    "    icon =  Icon(\n",
    "            color = markers[category_code][1], #red\n",
    "            icon_color = markers[category_code][2], #black\n",
    "            icon = markers[category_code][3], #dog\n",
    "            prefix=\"fa\" # font-awesome website: fa\n",
    "                )\n",
    "            \n",
    "    return icon"
   ]
  },
  {
   "cell_type": "code",
   "execution_count": 50,
   "id": "1705ca1b",
   "metadata": {},
   "outputs": [],
   "source": [
    "def city_markers(df, to_map):\n",
    "    \n",
    "        for index, row in df.iterrows():\n",
    "            \n",
    "            #What kind of place it is: (code)\n",
    "            category_code = df.iloc[index][\"lable\"]\n",
    "            \n",
    "            #Set the icon for that kind of place:\n",
    "            icon_conf = icon_set(category_code)\n",
    "            \n",
    "            #Extract position in witch locates:\n",
    "            lat = df.iloc[index][\"lat\"]\n",
    "            lon = df.iloc[index][\"lon\"]\n",
    "            coordenates = [lat, lon]\n",
    "            \n",
    "            #Retrieve the category_code name (ej:\"stadium\")\n",
    "            # we know the position in the dictionary\n",
    "            lable = markers[category_code][0]\n",
    "            \n",
    "            #Set the marker:\n",
    "            marker = Marker(coordenates, tooltip=lable ,  icon=icon_conf)\n",
    "            \n",
    "            marker.add_to(to_map)\n",
    "        \n",
    "        return"
   ]
  },
  {
   "cell_type": "code",
   "execution_count": 51,
   "id": "786e935e",
   "metadata": {},
   "outputs": [],
   "source": [
    "def heat_city(df, to_map):\n",
    "    \n",
    "    HeatMap(data = df[[\"lat\", \"lon\"]]).add_to(to_map)\n",
    "        \n",
    "    return"
   ]
  },
  {
   "cell_type": "markdown",
   "id": "771f50f2",
   "metadata": {},
   "source": [
    "### Apply function to or selected cityes:"
   ]
  },
  {
   "cell_type": "code",
   "execution_count": 52,
   "id": "2e9ab6bc",
   "metadata": {},
   "outputs": [],
   "source": [
    "location = \"Valencia\""
   ]
  },
  {
   "cell_type": "code",
   "execution_count": 56,
   "id": "afe99a8e",
   "metadata": {},
   "outputs": [],
   "source": [
    "#map and dataframe\n",
    "city_map = Map(locations[\"Valencia\"], zoom_start=13,  tiles='CartoDB positron')\n",
    "df = city_places(location)\n",
    "\n",
    "\n",
    "city_markers(df, city_map)\n",
    "city_map.save(f\"{location}_markmap.html\")"
   ]
  },
  {
   "cell_type": "code",
   "execution_count": 57,
   "id": "400f2d28",
   "metadata": {},
   "outputs": [],
   "source": [
    "#map and dataframe\n",
    "city_map =  Map(locations[\"Valencia\"], zoom_start=13,  tiles='CartoDB positron')\n",
    "df = city_places(location)\n",
    "\n",
    "\n",
    "heat_city(df, city_map)\n",
    "city_map.save(f\"{location}_heatmap.html\")"
   ]
  },
  {
   "cell_type": "markdown",
   "id": "b4870593",
   "metadata": {},
   "source": [
    "# MAKE IT BY LAYERS ?¿?:"
   ]
  },
  {
   "cell_type": "markdown",
   "id": "e8e20ee3",
   "metadata": {},
   "source": [
    "### Inspect the markers per city:"
   ]
  },
  {
   "cell_type": "code",
   "execution_count": 199,
   "id": "4bc77a06",
   "metadata": {},
   "outputs": [
    {
     "data": {
      "text/plain": [
       "lable\n",
       "nigth_club    53\n",
       "vegan_rest    52\n",
       "stadium       45\n",
       "dog_park      34\n",
       "Name: count, dtype: int64"
      ]
     },
     "execution_count": 199,
     "metadata": {},
     "output_type": "execute_result"
    }
   ],
   "source": [
    "mark_mad[\"lable\"].value_counts()"
   ]
  },
  {
   "cell_type": "code",
   "execution_count": 200,
   "id": "d313f622",
   "metadata": {},
   "outputs": [
    {
     "data": {
      "text/plain": [
       "lable\n",
       "nigth_club    12\n",
       "stadium        7\n",
       "vegan_rest     5\n",
       "dog_park       3\n",
       "Name: count, dtype: int64"
      ]
     },
     "execution_count": 200,
     "metadata": {},
     "output_type": "execute_result"
    }
   ],
   "source": [
    "mark_vlc[\"lable\"].value_counts()"
   ]
  },
  {
   "cell_type": "code",
   "execution_count": 201,
   "id": "2b7a48f5",
   "metadata": {},
   "outputs": [
    {
     "data": {
      "text/plain": [
       "lable\n",
       "nigth_club    51\n",
       "stadium       20\n",
       "vegan_rest     7\n",
       "dog_park       2\n",
       "Name: count, dtype: int64"
      ]
     },
     "execution_count": 201,
     "metadata": {},
     "output_type": "execute_result"
    }
   ],
   "source": [
    "mark_sev[\"lable\"].value_counts()"
   ]
  },
  {
   "cell_type": "markdown",
   "id": "cd585a5f",
   "metadata": {},
   "source": [
    "### Create the HeatMap"
   ]
  },
  {
   "cell_type": "code",
   "execution_count": 202,
   "id": "c40d1fc3",
   "metadata": {},
   "outputs": [
    {
     "data": {
      "text/html": [
       "<div>\n",
       "<style scoped>\n",
       "    .dataframe tbody tr th:only-of-type {\n",
       "        vertical-align: middle;\n",
       "    }\n",
       "\n",
       "    .dataframe tbody tr th {\n",
       "        vertical-align: top;\n",
       "    }\n",
       "\n",
       "    .dataframe thead th {\n",
       "        text-align: right;\n",
       "    }\n",
       "</style>\n",
       "<table border=\"1\" class=\"dataframe\">\n",
       "  <thead>\n",
       "    <tr style=\"text-align: right;\">\n",
       "      <th></th>\n",
       "      <th>lable</th>\n",
       "      <th>lat</th>\n",
       "      <th>lon</th>\n",
       "    </tr>\n",
       "  </thead>\n",
       "  <tbody>\n",
       "    <tr>\n",
       "      <th>0</th>\n",
       "      <td>stadium</td>\n",
       "      <td>37.378758</td>\n",
       "      <td>-5.996984</td>\n",
       "    </tr>\n",
       "    <tr>\n",
       "      <th>1</th>\n",
       "      <td>stadium</td>\n",
       "      <td>37.388063</td>\n",
       "      <td>-6.010549</td>\n",
       "    </tr>\n",
       "    <tr>\n",
       "      <th>2</th>\n",
       "      <td>stadium</td>\n",
       "      <td>37.384081</td>\n",
       "      <td>-5.970731</td>\n",
       "    </tr>\n",
       "    <tr>\n",
       "      <th>3</th>\n",
       "      <td>stadium</td>\n",
       "      <td>37.384046</td>\n",
       "      <td>-5.970596</td>\n",
       "    </tr>\n",
       "    <tr>\n",
       "      <th>4</th>\n",
       "      <td>stadium</td>\n",
       "      <td>37.384046</td>\n",
       "      <td>-5.970596</td>\n",
       "    </tr>\n",
       "    <tr>\n",
       "      <th>...</th>\n",
       "      <td>...</td>\n",
       "      <td>...</td>\n",
       "      <td>...</td>\n",
       "    </tr>\n",
       "    <tr>\n",
       "      <th>75</th>\n",
       "      <td>nigth_club</td>\n",
       "      <td>37.407838</td>\n",
       "      <td>-5.933169</td>\n",
       "    </tr>\n",
       "    <tr>\n",
       "      <th>76</th>\n",
       "      <td>nigth_club</td>\n",
       "      <td>37.430002</td>\n",
       "      <td>-5.974612</td>\n",
       "    </tr>\n",
       "    <tr>\n",
       "      <th>77</th>\n",
       "      <td>nigth_club</td>\n",
       "      <td>37.406172</td>\n",
       "      <td>-5.930830</td>\n",
       "    </tr>\n",
       "    <tr>\n",
       "      <th>78</th>\n",
       "      <td>nigth_club</td>\n",
       "      <td>37.401264</td>\n",
       "      <td>-5.925258</td>\n",
       "    </tr>\n",
       "    <tr>\n",
       "      <th>79</th>\n",
       "      <td>nigth_club</td>\n",
       "      <td>37.405380</td>\n",
       "      <td>-5.915584</td>\n",
       "    </tr>\n",
       "  </tbody>\n",
       "</table>\n",
       "<p>80 rows × 3 columns</p>\n",
       "</div>"
      ],
      "text/plain": [
       "         lable        lat       lon\n",
       "0      stadium  37.378758 -5.996984\n",
       "1      stadium  37.388063 -6.010549\n",
       "2      stadium  37.384081 -5.970731\n",
       "3      stadium  37.384046 -5.970596\n",
       "4      stadium  37.384046 -5.970596\n",
       "..         ...        ...       ...\n",
       "75  nigth_club  37.407838 -5.933169\n",
       "76  nigth_club  37.430002 -5.974612\n",
       "77  nigth_club  37.406172 -5.930830\n",
       "78  nigth_club  37.401264 -5.925258\n",
       "79  nigth_club  37.405380 -5.915584\n",
       "\n",
       "[80 rows x 3 columns]"
      ]
     },
     "execution_count": 202,
     "metadata": {},
     "output_type": "execute_result"
    }
   ],
   "source": [
    "df = mark_sev\n",
    "df"
   ]
  },
  {
   "cell_type": "code",
   "execution_count": 203,
   "id": "a3c033e8",
   "metadata": {},
   "outputs": [],
   "source": [
    "markers = {\n",
    "    10051: [\"stadium\" , \"orange\", \"black\", \"baseball\"],\n",
    "    16033: [\"dog_park\", \"green\", \"white\", \"dog\"],\n",
    "    13377: [\"vegan_rest\", \"white\", \"green\", \"leaf\"],\n",
    "    10032: [\"nigth_club\", \"black\", \"white\", \"champagne-glasses\"]\n",
    "}"
   ]
  },
  {
   "cell_type": "code",
   "execution_count": 276,
   "id": "aec43c5e",
   "metadata": {},
   "outputs": [
    {
     "name": "stdout",
     "output_type": "stream",
     "text": [
      "<class 'pandas.core.frame.DataFrame'>\n",
      "RangeIndex: 27 entries, 0 to 26\n",
      "Data columns (total 5 columns):\n",
      " #   Column      Non-Null Count  Dtype  \n",
      "---  ------      --------------  -----  \n",
      " 0   city        27 non-null     object \n",
      " 1   place_name  27 non-null     object \n",
      " 2   lable       27 non-null     int64  \n",
      " 3   lat         27 non-null     float64\n",
      " 4   lon         27 non-null     float64\n",
      "dtypes: float64(2), int64(1), object(2)\n",
      "memory usage: 1.2+ KB\n"
     ]
    }
   ],
   "source": [
    "df = city_places(\"Valencia\")\n",
    "df.info()"
   ]
  },
  {
   "cell_type": "code",
   "execution_count": 299,
   "id": "61938840",
   "metadata": {},
   "outputs": [],
   "source": [
    "vlc_map = Map(locations[\"Valencia\"], zoom_start=12)\n",
    "df = city_places(\"Valencia\")"
   ]
  },
  {
   "cell_type": "code",
   "execution_count": 303,
   "id": "2125c543",
   "metadata": {},
   "outputs": [],
   "source": [
    "### Subset the dataframe per layer\n",
    "\n",
    "stadium = df[df[\"lable\"] == 10051] # subset\n",
    "dog_park = df[df[\"lable\"] == 16033]\n",
    "vegan_rest = df[df[\"lable\"] == 13377]\n",
    "nigth_club = df[df[\"lable\"] == 10032]"
   ]
  },
  {
   "cell_type": "code",
   "execution_count": 304,
   "id": "c5cbbaa3",
   "metadata": {},
   "outputs": [
    {
     "data": {
      "text/plain": [
       "<folium.map.FeatureGroup at 0x11786fe50>"
      ]
     },
     "execution_count": 304,
     "metadata": {},
     "output_type": "execute_result"
    }
   ],
   "source": [
    "stadium_group = folium.FeatureGroup(name=f\"Sports_Stadiums: {stadium.shape[0]}\")\n",
    "HeatMap(data = stadium[[\"lat\", \"lon\"]]).add_to(stadium_group)\n",
    "stadium_group.add_to(vlc_map)"
   ]
  },
  {
   "cell_type": "code",
   "execution_count": 306,
   "id": "533c5721",
   "metadata": {},
   "outputs": [],
   "source": [
    "#vlc_map"
   ]
  },
  {
   "cell_type": "code",
   "execution_count": 307,
   "id": "db28d693",
   "metadata": {},
   "outputs": [],
   "source": [
    "#vlc_map"
   ]
  }
 ],
 "metadata": {
  "kernelspec": {
   "display_name": "ironhack",
   "language": "python",
   "name": "ironhack"
  },
  "language_info": {
   "codemirror_mode": {
    "name": "ipython",
    "version": 3
   },
   "file_extension": ".py",
   "mimetype": "text/x-python",
   "name": "python",
   "nbconvert_exporter": "python",
   "pygments_lexer": "ipython3",
   "version": "3.11.5"
  }
 },
 "nbformat": 4,
 "nbformat_minor": 5
}
