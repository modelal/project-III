{
 "cells": [
  {
   "cell_type": "code",
   "execution_count": 1,
   "id": "ba5eb101",
   "metadata": {},
   "outputs": [],
   "source": [
    "from pymongo import MongoClient\n",
    "import requests\n",
    "import json\n",
    "import pandas as pd\n",
    "from getpass import getpass"
   ]
  },
  {
   "cell_type": "code",
   "execution_count": 2,
   "id": "faaa8bed",
   "metadata": {},
   "outputs": [
    {
     "name": "stdout",
     "output_type": "stream",
     "text": [
      "········\n"
     ]
    }
   ],
   "source": [
    "token = getpass()"
   ]
  },
  {
   "cell_type": "markdown",
   "id": "5032ef49",
   "metadata": {},
   "source": [
    "### Conectar con la Collection en Mongo"
   ]
  },
  {
   "cell_type": "code",
   "execution_count": 3,
   "id": "d226faed",
   "metadata": {},
   "outputs": [],
   "source": [
    "def access_mdb_local_collection (database, collection):\n",
    "\n",
    "    \"\"\" Function that returns a collection inside a DataBase \n",
    "    host in my local Server \"\"\"\n",
    "\n",
    "    # 1. Connect to my local Server\n",
    "    client = MongoClient(\"localhost:27017\")\n",
    "    \n",
    "    # 2. Access a DataBase:\n",
    "    db = client[database]\n",
    "\n",
    "    # 3. Acces a collection inside the given DataBase\n",
    "    c = db.get_collection(collection)\n",
    "\n",
    "    # 4. Return collection into a given DataBase host in a given Server\n",
    "    return c"
   ]
  },
  {
   "cell_type": "markdown",
   "id": "cb9545e8",
   "metadata": {},
   "source": [
    "### Extrer datos de FourSquare:"
   ]
  },
  {
   "cell_type": "code",
   "execution_count": 4,
   "id": "3149e819",
   "metadata": {},
   "outputs": [],
   "source": [
    "def foursquare_places(venue,location,category = \"\"):\n",
    "    \n",
    "    \"\"\"\n",
    "    Search for UNLIMITED places in a 10km radius given a key_word\n",
    "    query (venue), and returns a .json()\n",
    "    \n",
    "    \"\"\"\n",
    "    \n",
    "    url = \"https://api.foursquare.com/v3/places/search\"\n",
    "\n",
    "    params = {\n",
    "        \"query\": venue,\n",
    "        \"ll\": location,\n",
    "        \"radius\":10000,\n",
    "        \"categories\":category,\n",
    "        \"limit\":50,\n",
    "        #\"sort\":\"DISTANCE\" #elegir distancia o relevancia\n",
    "    }\n",
    "\n",
    "    headers = {\n",
    "        \"Accept\": \"application/json\",\n",
    "        \"Authorization\": token\n",
    "    }\n",
    "\n",
    "    return requests.get(url, params=params, headers=headers).json()\n"
   ]
  },
  {
   "cell_type": "markdown",
   "id": "e38087bc",
   "metadata": {},
   "source": [
    "### Insertar los datos de FourSquare en la coleccion"
   ]
  },
  {
   "cell_type": "code",
   "execution_count": 5,
   "id": "9a3520ae",
   "metadata": {},
   "outputs": [],
   "source": [
    "def insert_parents_fourquare(response):\n",
    "    \n",
    "    \"\"\"\n",
    "    Inserts the results of a reques that ARE NOT in the \n",
    "    foursquare collection AND ARE NOT related to other object(childrens)\n",
    "    \"\"\"\n",
    "    \n",
    "    # 1. set conter for inserted objects\n",
    "    inserted = 0\n",
    "    \n",
    "    # 2. access foursquare collection\n",
    "    c = access_mdb_local_collection (\"ironhack\", \"foursquare\")\n",
    "    \n",
    "    # 3. Get the list of all FS elements alrready registered\n",
    "    registered = [i['fsq_id'] for i in c.find({}, {\"_id\":0,\"fsq_id\":1})]\n",
    "    \n",
    "    # 4. Iterate trough all elements of the response \n",
    "    for i in response[\"results\"]:\n",
    "        \n",
    "        #Need to meet 2 conditions to be inserted:\n",
    "        # It is not alrready registered:\n",
    "        cond1 = i['fsq_id'] not in registered\n",
    "        \n",
    "        ## It's not a children of a parent:\n",
    "        cond2 = \"parent\" not in list(i[\"related_places\"].keys())\n",
    "        \n",
    "        # Check if the conditions are meet:\n",
    "        if cond1 and cond2 == True:\n",
    "            c.insert_one(i)\n",
    "            inserted += 1\n",
    "            \n",
    "    print(f'{inserted} items inserted into foursquare collection')\n",
    "               \n",
    "    return"
   ]
  },
  {
   "cell_type": "markdown",
   "id": "05943c58",
   "metadata": {},
   "source": [
    "# MAIN:"
   ]
  },
  {
   "cell_type": "code",
   "execution_count": 10,
   "id": "1fe9cc5a",
   "metadata": {},
   "outputs": [
    {
     "name": "stdout",
     "output_type": "stream",
     "text": [
      "----Location Valencia, category transport----\n",
      "0 items inserted into foursquare collection\n",
      "---------------------------------------\n",
      "----Location Valencia, category coffee----\n",
      "0 items inserted into foursquare collection\n",
      "---------------------------------------\n",
      "----Location Valencia, category nigth_club----\n",
      "43 items inserted into foursquare collection\n",
      "---------------------------------------\n"
     ]
    }
   ],
   "source": [
    "locations = {\n",
    "    \"Valencia\" : \"39.47534441,-0.37565717\"\n",
    "}\n",
    "\n",
    "\"\"\"\n",
    "          \n",
    "    - API FourSquare: \n",
    "    \n",
    "           - Airpot or Trainstation\n",
    "           - Starbuks near \n",
    "            - Nigth clubs\n",
    "\n",
    "19031\tTravel and Transportation > Transport Hub > Airport\n",
    "19042\tTravel and Transportation > Transport Hub > Bus Station\n",
    "19066\tTravel and Transportation > Train\n",
    "19000\tTravel and Transportation\n",
    "\n",
    "13035\tDining and Drinking > Cafe, Coffee, and Tea House > Coffee Shop\n",
    "\n",
    "13003\tDining and Drinking > Bar\n",
    "10032\tArts and Entertainment > Night Club\n",
    "\n",
    "\"\"\"\n",
    "            \n",
    "categories = {\n",
    "    \"transport\" : 19000,\n",
    "    \"coffee\" : 13035,\n",
    "    \"nigth_club\" : 13003,\n",
    "}\n",
    "\n",
    "\n",
    "\n",
    "for key, loc in locations.items():\n",
    "    for key2, cat in categories.items():\n",
    "        \n",
    "        venue = \"\"\n",
    "        location = loc\n",
    "        category = cat\n",
    "        \n",
    "        print(f'----Location {key}, category {key2}----')\n",
    "        \n",
    "        response = foursquare_places(venue,location,category)\n",
    "    \n",
    "        insert_parents_fourquare(response)\n",
    "              \n",
    "        print(f'---------------------------------------')\n",
    "        "
   ]
  },
  {
   "cell_type": "code",
   "execution_count": null,
   "id": "71ad23c1",
   "metadata": {},
   "outputs": [],
   "source": [
    "# Salen tantos 0 porque ya habiamos guardado antes datos de Madrid y Valencia"
   ]
  }
 ],
 "metadata": {
  "kernelspec": {
   "display_name": "ironhack",
   "language": "python",
   "name": "ironhack"
  },
  "language_info": {
   "codemirror_mode": {
    "name": "ipython",
    "version": 3
   },
   "file_extension": ".py",
   "mimetype": "text/x-python",
   "name": "python",
   "nbconvert_exporter": "python",
   "pygments_lexer": "ipython3",
   "version": "3.11.5"
  }
 },
 "nbformat": 4,
 "nbformat_minor": 5
}
