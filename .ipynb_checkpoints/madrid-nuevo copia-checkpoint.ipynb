{
 "cells": [
  {
   "cell_type": "code",
   "execution_count": 1,
   "id": "ba5eb101",
   "metadata": {},
   "outputs": [],
   "source": [
    "from pymongo import MongoClient\n",
    "import requests\n",
    "import json\n",
    "import pandas as pd\n",
    "from getpass import getpass"
   ]
  },
  {
   "cell_type": "code",
   "execution_count": 2,
   "id": "faaa8bed",
   "metadata": {},
   "outputs": [
    {
     "name": "stdout",
     "output_type": "stream",
     "text": [
      "········\n"
     ]
    }
   ],
   "source": [
    "token = getpass()"
   ]
  },
  {
   "cell_type": "markdown",
   "id": "5032ef49",
   "metadata": {},
   "source": [
    "### Conectar con la Collection en Mongo"
   ]
  },
  {
   "cell_type": "code",
   "execution_count": 3,
   "id": "d226faed",
   "metadata": {},
   "outputs": [],
   "source": [
    "def access_mdb_local_collection (database, collection):\n",
    "\n",
    "    \"\"\" Function that returns a collection inside a DataBase \n",
    "    host in my local Server \"\"\"\n",
    "\n",
    "    # 1. Connect to my local Server\n",
    "    client = MongoClient(\"localhost:27017\")\n",
    "    \n",
    "    # 2. Access a DataBase:\n",
    "    db = client[database]\n",
    "\n",
    "    # 3. Acces a collection inside the given DataBase\n",
    "    c = db.get_collection(collection)\n",
    "\n",
    "    # 4. Return collection into a given DataBase host in a given Server\n",
    "    return c"
   ]
  },
  {
   "cell_type": "markdown",
   "id": "cb9545e8",
   "metadata": {},
   "source": [
    "### Extrer datos de FourSquare:"
   ]
  },
  {
   "cell_type": "code",
   "execution_count": 4,
   "id": "3149e819",
   "metadata": {},
   "outputs": [],
   "source": [
    "def foursquare_places(location, radius, query=\"\" ,category = \"\"):\n",
    "    \n",
    "    \"\"\"\n",
    "    Search for places by distance on a circular boundary in ForeSquare API and returns a .json()\n",
    "    Optional filter, venue and/or category can be added\n",
    "    Response limited to 50 (maximum)\n",
    "\n",
    "    :location: str : \"latidude,longitude\" around which to retrieve place information  eg. \"43.37012643,-8,39114853\"\n",
    "    :radius: int : radius in meters.define the area to bias search results.  eg. 10000\n",
    "    :query: str : OPTIONAL:  a string to be matched against all content for this place\n",
    "    :category: int: OPTIONAL : returns FSQ Places matching the specified id categories\n",
    "       see category taxonomy -->  https://location.foursquare.com/places/docs/categories\n",
    "\n",
    "    \"\"\"\n",
    "\n",
    "\n",
    "    url = \"https://api.foursquare.com/v3/places/search\"\n",
    "\n",
    "    params = {\n",
    "        \"query\": query,\n",
    "        \"ll\": location,\n",
    "        \"radius\":radius,\n",
    "        \"categories\":category,\n",
    "        \"limit\":50,\n",
    "        \"sort\":\"DISTANCE\"  #Por defecto relevancia. \n",
    "    }\n",
    "\n",
    "    headers = {\n",
    "        \"Accept\": \"application/json\",\n",
    "        \"Authorization\": token\n",
    "    }\n",
    "\n",
    "    return requests.get(url, params=params, headers=headers).json()"
   ]
  },
  {
   "cell_type": "markdown",
   "id": "e38087bc",
   "metadata": {},
   "source": [
    "### Insertar los datos de FourSquare en la coleccion"
   ]
  },
  {
   "cell_type": "code",
   "execution_count": 5,
   "id": "9a3520ae",
   "metadata": {},
   "outputs": [],
   "source": [
    "def insert_parents_fourquare(response,collection):\n",
    "    \n",
    "    \"\"\"\n",
    "    Inserts the results of a reques that ARE NOT in the \n",
    "    foursquare collection AND ARE NOT related to other object(childrens)\n",
    "    \n",
    "    response: que? WHAT?\n",
    "    collection: donde? WHERE? \n",
    "    \n",
    "    \"\"\"\n",
    "    \n",
    "    \n",
    "    # 1. set conter for inserted objects\n",
    "    inserted = 0\n",
    "    \n",
    "    # 2. set shorter name for collection\n",
    "    c = collection\n",
    "    \n",
    "    # 3. Get the list of all FS elements alrready registered\n",
    "    registered = [i['fsq_id'] for i in c.find({}, {\"_id\":0,\"fsq_id\":1})]\n",
    "    \n",
    "    # 4. Iterate trough all elements of the response \n",
    "    for i in response[\"results\"]:\n",
    "        \n",
    "        #Need to meet 2 conditions to be inserted:\n",
    "        # It is not alrready registered:\n",
    "        cond1 = i['fsq_id'] not in registered\n",
    "        \n",
    "        ## It's not a children of a parent:\n",
    "        cond2 = \"parent\" not in list(i[\"related_places\"].keys())\n",
    "        \n",
    "        # Check if the conditions are meet:\n",
    "        if cond1 and cond2 == True:\n",
    "            c.insert_one(i)\n",
    "            inserted += 1\n",
    "            \n",
    "    print(f'{inserted} items inserted into collection')\n",
    "               \n",
    "    return"
   ]
  },
  {
   "cell_type": "markdown",
   "id": "05943c58",
   "metadata": {},
   "source": [
    "# MAIN:"
   ]
  },
  {
   "cell_type": "code",
   "execution_count": 6,
   "id": "65042e41",
   "metadata": {},
   "outputs": [],
   "source": [
    "locations = { \"Madrid\" : \"40.4193326,-3.6930825\"}"
   ]
  },
  {
   "cell_type": "code",
   "execution_count": 7,
   "id": "bc8aa06f",
   "metadata": {},
   "outputs": [
    {
     "name": "stdout",
     "output_type": "stream",
     "text": [
      "45 items inserted into collection\n"
     ]
    }
   ],
   "source": [
    "#Conectas:\n",
    "collection = access_mdb_local_collection (\"ironhack\", \"madrid\")\n",
    "\n",
    "#Extraes:\n",
    "\n",
    "    # 1. seteamos los parametros de extraccion:\n",
    "location = locations[\"Madrid\"]\n",
    "radius = 1000 #(1km)\n",
    "\n",
    "query = \"\"\n",
    "\n",
    "category= \"10061,16033,13377,19031,19066,19042,10032,11030\"\n",
    "\n",
    "    # 2. Extraemos:\n",
    "response = foursquare_places(location, radius, query, category)\n",
    "\n",
    "#Insertas:\n",
    "insert_parents_fourquare(response,collection)\n",
    "\n"
   ]
  },
  {
   "cell_type": "code",
   "execution_count": null,
   "id": "3bcd9c7b",
   "metadata": {},
   "outputs": [],
   "source": []
  },
  {
   "cell_type": "markdown",
   "id": "32e418fd",
   "metadata": {},
   "source": [
    "### Categories:\n",
    "\n",
    "**10061**\tArts and Entertainment > Stadium > Basketball Stadium\n",
    "    If nothign try: 10051\tArts and Entertainment > Stadium\n",
    "\n",
    "**16033**\tLandmarks and Outdoors > Park > Dog Park\n",
    "\n",
    "**13377**\tDining and Drinking > Restaurant > Vegan \n",
    "\n",
    "**19031**\tTravel and Transportation > Transport Hub > Airport\n",
    "**19066**\tTravel and Transportation > Train\n",
    "**19042**\tTravel and Transportation > Transport Hub > Bus Station\n",
    "\n",
    "**10032**\tArts and Entertainment > Night Club\n",
    "\n",
    "**11030**\tBusiness and Professional Services > Design Studio\n"
   ]
  },
  {
   "cell_type": "code",
   "execution_count": null,
   "id": "29c6824e",
   "metadata": {},
   "outputs": [],
   "source": []
  }
 ],
 "metadata": {
  "kernelspec": {
   "display_name": "ironhack",
   "language": "python",
   "name": "ironhack"
  },
  "language_info": {
   "codemirror_mode": {
    "name": "ipython",
    "version": 3
   },
   "file_extension": ".py",
   "mimetype": "text/x-python",
   "name": "python",
   "nbconvert_exporter": "python",
   "pygments_lexer": "ipython3",
   "version": "3.11.5"
  }
 },
 "nbformat": 4,
 "nbformat_minor": 5
}
