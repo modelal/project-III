{
 "cells": [
  {
   "cell_type": "code",
   "execution_count": 1,
   "id": "ba5eb101",
   "metadata": {},
   "outputs": [],
   "source": [
    "from pymongo import MongoClient\n",
    "import requests\n",
    "import json\n",
    "import pandas as pd\n",
    "from getpass import getpass"
   ]
  },
  {
   "cell_type": "code",
   "execution_count": 2,
   "id": "faaa8bed",
   "metadata": {},
   "outputs": [
    {
     "name": "stdout",
     "output_type": "stream",
     "text": [
      "········\n"
     ]
    }
   ],
   "source": [
    "token = getpass()"
   ]
  },
  {
   "cell_type": "markdown",
   "id": "5032ef49",
   "metadata": {},
   "source": [
    "### Conectar con la Collection en Mongo"
   ]
  },
  {
   "cell_type": "code",
   "execution_count": 26,
   "id": "d226faed",
   "metadata": {},
   "outputs": [],
   "source": [
    "def access_mdb_local_collection (database, collection):\n",
    "\n",
    "    \"\"\" Function that returns a collection inside a DataBase \n",
    "    host in my local Server \"\"\"\n",
    "\n",
    "    # 1. Connect to my local Server\n",
    "    client = MongoClient(\"localhost:27017\")\n",
    "    \n",
    "    # 2. Access a DataBase:\n",
    "    db = client[database]\n",
    "\n",
    "    # 3. Acces a collection inside the given DataBase\n",
    "    c = db.get_collection(collection)\n",
    "\n",
    "    # 4. Return collection into a given DataBase host in a given Server\n",
    "    return c"
   ]
  },
  {
   "cell_type": "markdown",
   "id": "cb9545e8",
   "metadata": {},
   "source": [
    "### Extrer datos de FourSquare:"
   ]
  },
  {
   "cell_type": "code",
   "execution_count": 9,
   "id": "3149e819",
   "metadata": {},
   "outputs": [],
   "source": [
    "def foursquare_places(location, radius, query=\"\" ,category = \"\"):\n",
    "    \n",
    "    \"\"\"\n",
    "    Search for places by distance on a circular boundary in ForeSquare API and returns a .json()\n",
    "    Optional filter, venue and/or category can be added\n",
    "    Response limited to 50 (maximum)\n",
    "\n",
    "    :location: str : \"latidude,longitude\" around which to retrieve place information  eg. \"43.37012643,-8,39114853\"\n",
    "    :radius: int : radius in meters.define the area to bias search results.  eg. 10000\n",
    "    :query: str : OPTIONAL:  a string to be matched against all content for this place\n",
    "    :category: int: OPTIONAL : returns FSQ Places matching the specified id categories\n",
    "       see category taxonomy -->  https://location.foursquare.com/places/docs/categories\n",
    "\n",
    "    \"\"\"\n",
    "\n",
    "\n",
    "    url = \"https://api.foursquare.com/v3/places/search\"\n",
    "\n",
    "    params = {\n",
    "        \"query\": query,\n",
    "        \"ll\": location,\n",
    "        \"radius\":radius,\n",
    "        \"categories\":category,\n",
    "        \"limit\":50,\n",
    "        \"sort\":\"DISTANCE\"  #Por defecto relevancia. \n",
    "    }\n",
    "\n",
    "    headers = {\n",
    "        \"Accept\": \"application/json\",\n",
    "        \"Authorization\": token\n",
    "    }\n",
    "\n",
    "    return requests.get(url, params=params, headers=headers).json()"
   ]
  },
  {
   "cell_type": "markdown",
   "id": "e38087bc",
   "metadata": {},
   "source": [
    "### Insertar los datos de FourSquare en la coleccion"
   ]
  },
  {
   "cell_type": "code",
   "execution_count": 10,
   "id": "9a3520ae",
   "metadata": {},
   "outputs": [],
   "source": [
    "def insert_parents_fourquare(response,collection):\n",
    "    \n",
    "    \"\"\"\n",
    "    Inserts the results of a reques that ARE NOT in the \n",
    "    foursquare collection AND ARE NOT related to other object(childrens)\n",
    "    \n",
    "    response: que? WHAT?\n",
    "    collection: donde? WHERE? \n",
    "    \n",
    "    \"\"\"\n",
    "    \n",
    "    \n",
    "    # 1. set conter for inserted objects\n",
    "    inserted = 0\n",
    "    \n",
    "    # 2. set shorter name for collection\n",
    "    c = collection\n",
    "    \n",
    "    # 3. Get the list of all FS elements alrready registered\n",
    "    registered = [i['fsq_id'] for i in c.find({}, {\"_id\":0,\"fsq_id\":1})]\n",
    "    \n",
    "    # 4. Iterate trough all elements of the response \n",
    "    for i in response[\"results\"]:\n",
    "        \n",
    "        #Need to meet 2 conditions to be inserted:\n",
    "        # It is not alrready registered:\n",
    "        cond1 = i['fsq_id'] not in registered\n",
    "        \n",
    "        ## It's not a children of a parent:\n",
    "        cond2 = \"parent\" not in list(i[\"related_places\"].keys())\n",
    "        \n",
    "        # Check if the conditions are meet:\n",
    "        if cond1 and cond2 == True:\n",
    "            c.insert_one(i)\n",
    "            inserted += 1\n",
    "            \n",
    "    print(f'{inserted} items inserted into collection')\n",
    "               \n",
    "    return"
   ]
  },
  {
   "cell_type": "markdown",
   "id": "05943c58",
   "metadata": {},
   "source": [
    "# MAIN:"
   ]
  },
  {
   "cell_type": "code",
   "execution_count": 27,
   "id": "65042e41",
   "metadata": {},
   "outputs": [],
   "source": [
    "locations = { \"Madrid\" : \"40.4193326,-3.6930825\"}"
   ]
  },
  {
   "cell_type": "code",
   "execution_count": 12,
   "id": "bc8aa06f",
   "metadata": {},
   "outputs": [
    {
     "name": "stdout",
     "output_type": "stream",
     "text": [
      "44 items inserted into collection\n"
     ]
    }
   ],
   "source": [
    "#Conectas:\n",
    "collection = access_mdb_local_collection (\"ironhack\", \"madrid\")\n",
    "\n",
    "#Extraes:\n",
    "\n",
    "    # 1. seteamos los parametros de extraccion:\n",
    "location = locations[\"Madrid\"]\n",
    "radius = 1000 #(1km)\n",
    "\n",
    "query = \"\"\n",
    "\n",
    "category= \"10061,16033,13377,19031,19066,10032,11030\"\n",
    "\n",
    "    # 2. Extraemos:\n",
    "response = foursquare_places(location, radius, query, category)\n",
    "\n",
    "#Insertas:\n",
    "insert_parents_fourquare(response,collection)\n",
    "\n"
   ]
  },
  {
   "cell_type": "code",
   "execution_count": null,
   "id": "3bcd9c7b",
   "metadata": {},
   "outputs": [],
   "source": []
  },
  {
   "cell_type": "markdown",
   "id": "32e418fd",
   "metadata": {},
   "source": [
    "### Categories:\n",
    "\n",
    "**10061**\tArts and Entertainment > Stadium > Basketball Stadium\n",
    "    If nothign try: 10051\tArts and Entertainment > Stadium\n",
    "\n",
    "**16033**\tLandmarks and Outdoors > Park > Dog Park\n",
    "\n",
    "**13377**\tDining and Drinking > Restaurant > Vegan \n",
    "\n",
    "**10032**\tArts and Entertainment > Night Club\n",
    "\n",
    "**19031**\tTravel and Transportation > Transport Hub > Airport\n",
    "**19066**\tTravel and Transportation > Train\n",
    "\n",
    "\n",
    "\n",
    "**11030**\tBusiness and Professional Services > Design Studio\n"
   ]
  },
  {
   "cell_type": "code",
   "execution_count": 14,
   "id": "b5d0e1e9",
   "metadata": {},
   "outputs": [],
   "source": [
    "from pymongo import MongoClient\n",
    "import requests\n",
    "import json\n",
    "import pandas as pd\n",
    "from getpass import getpass\n",
    "import folium\n",
    "from folium import Choropleth, Circle, Marker, Icon, Map\n",
    "from folium.plugins import HeatMap, MarkerCluster"
   ]
  },
  {
   "cell_type": "code",
   "execution_count": 15,
   "id": "29c6824e",
   "metadata": {},
   "outputs": [],
   "source": [
    "markers = {\n",
    "    10061: [\"stadium\" , \"orange\", \"black\", \"baseball\"],\n",
    "    16033: [\"dog_park\", \"green\", \"white\", \"dog\"],\n",
    "    13377: [\"vegan_rest\", \"white\", \"green\", \"leaf\"],\n",
    "    10032: [\"nigth_club\", \"black\", \"white\", \"champagne-glasses\"],\n",
    "    19066: [\"transport\", \"blue\", \"white\", \"plane-departure\"],\n",
    "    19031: [\"transport\", \"blue\", \"white\", \"plane-departure\"],\n",
    "    11030: [\"dessing\", \"pink\", \"black\", \"pen-nib\"]\n",
    "    \n",
    "}"
   ]
  },
  {
   "cell_type": "code",
   "execution_count": 16,
   "id": "6b81f21a",
   "metadata": {},
   "outputs": [],
   "source": [
    "def access_mdb_local_collection (database, collection):\n",
    "\n",
    "    \"\"\" Function that returns a collection inside a DataBase \n",
    "    host in my local Server \"\"\"\n",
    "\n",
    "    # 1. Connect to my local Server\n",
    "    client = MongoClient(\"localhost:27017\")\n",
    "    \n",
    "    # 2. Access a DataBase:\n",
    "    db = client[database]\n",
    "\n",
    "    # 3. Acces a collection inside the given DataBase\n",
    "    c = db.get_collection(collection)\n",
    "\n",
    "    # 4. Return collection into a given DataBase host in a given Server\n",
    "    return c"
   ]
  },
  {
   "cell_type": "code",
   "execution_count": 36,
   "id": "0c966337",
   "metadata": {},
   "outputs": [
    {
     "ename": "SyntaxError",
     "evalue": "'[' was never closed (2317875308.py, line 14)",
     "output_type": "error",
     "traceback": [
      "\u001b[0;36m  Cell \u001b[0;32mIn[36], line 14\u001b[0;36m\u001b[0m\n\u001b[0;31m    if i[\"categories\" == []\u001b[0m\n\u001b[0m        ^\u001b[0m\n\u001b[0;31mSyntaxError\u001b[0m\u001b[0;31m:\u001b[0m '[' was never closed\n"
     ]
    }
   ],
   "source": [
    "def extract_parameters(i):\n",
    "            \n",
    "            name = i[\"name\"]\n",
    "            \n",
    "            lat = i[\"geocodes\"][\"main\"][\"latitude\"]\n",
    "            lon = i[\"geocodes\"][\"main\"][\"longitude\"]\n",
    "            \n",
    "            # as elements can have more than one categorie\n",
    "            #we need to make sure we use the ones that we\n",
    "            #have consider in markers. We know they all have\n",
    "            #at least one of them because we extract the \n",
    "            #info from the API using categorie filter:\n",
    "            \n",
    "            if i[\"categories\" == []\n",
    "                 continue:\n",
    "            else:\n",
    "                cat_list = [x[\"id\"] for x in i[\"categories\"]]\n",
    "                cat_code = [key for key in markers.keys() if key in cat_list][0]\n",
    "              \n",
    "            \"\"\"\n",
    "            The same before comprehension list:\n",
    "            \n",
    "            for key in markers.keys():\n",
    "                if key in cat_list\n",
    "                    cat_code = key\n",
    "                    \n",
    "            With the comprehension list, we need to acces the first \n",
    "            element -> we know there will be just one.\n",
    "            \"\"\"\n",
    "            params = {\"name\": name, \"cat_code\":cat_code, \"lat\":lat, \"lon\":lon}\n",
    "            \n",
    "            return params"
   ]
  },
  {
   "cell_type": "code",
   "execution_count": 35,
   "id": "41c43903",
   "metadata": {},
   "outputs": [],
   "source": [
    "def city_places(city):\n",
    "    \n",
    "    \"Returs a dataframe with all palces inside a city from our DB\"\n",
    "    \n",
    "    c = access_mdb_local_collection (\"ironhack\", \"madrid\")\n",
    "    \n",
    "    # 1. Set the filter to the objects --> REVIEW option just locality??¿?¿ lo de Valencia - comunidad valencia \n",
    "    filt = {\"location.locality\":city}\n",
    "    \n",
    "    # 2. Select the filds that we want to target:\n",
    "    projection = { \"_id\":0,\"categories\":1, \"geocodes\":1,\"name\":1}\n",
    "    \n",
    "    # 3. Extract data\n",
    "    datos = list(c.find(filt,projection))\n",
    "    \n",
    "    # 4. Generate an empty dictionary with the categories to save:\n",
    "    register = {\"city\": [], \"place_name\":[], \"lable\":[],\"lat\":[], \"lon\":[]}\n",
    "    \n",
    "    # 5. Iterate trowh all elements found:\n",
    "    for i in datos:\n",
    "\n",
    "        info = extract_parameters(i) # info it's a dictionary \n",
    "            # example --> info = {\"name\": name, \"cat_code\":cat_code, \"lat\":lat, \"lon\":lon}\n",
    "            \n",
    "            \n",
    "        name = info[\"name\"]\n",
    "        lable =info[\"cat_code\"]\n",
    "        lat = info[\"lat\"]\n",
    "        lon =  info[\"lon\"]\n",
    "        \n",
    "        register[\"city\"].append(city)\n",
    "        register[\"place_name\"].append(name)\n",
    "        register[\"lable\"].append(lable)\n",
    "        register[\"lat\"].append(lat)\n",
    "        register[\"lon\"].append(lon)\n",
    "\n",
    "        df = pd.DataFrame(register)\n",
    "        \n",
    "    return df"
   ]
  },
  {
   "cell_type": "code",
   "execution_count": 19,
   "id": "a5c9ab8e",
   "metadata": {},
   "outputs": [],
   "source": [
    "def icon_set(category_code): # marker of categorye [10051]\n",
    "    \n",
    "    icon =  Icon(\n",
    "            color = markers[category_code][1], #red\n",
    "            icon_color = markers[category_code][2], #black\n",
    "            icon = markers[category_code][3], #dog\n",
    "            prefix=\"fa\" # font-awesome website: fa\n",
    "                )\n",
    "            \n",
    "    return icon"
   ]
  },
  {
   "cell_type": "code",
   "execution_count": 20,
   "id": "1f38d1e8",
   "metadata": {},
   "outputs": [],
   "source": [
    "def city_markers(df, to_map):\n",
    "    \n",
    "        for index, row in df.iterrows():\n",
    "            \n",
    "            #What kind of place it is: (code)\n",
    "            category_code = df.iloc[index][\"lable\"]\n",
    "            \n",
    "            #Set the icon for that kind of place:\n",
    "            icon_conf = icon_set(category_code)\n",
    "            \n",
    "            #Extract position in witch locates:\n",
    "            lat = df.iloc[index][\"lat\"]\n",
    "            lon = df.iloc[index][\"lon\"]\n",
    "            coordenates = [lat, lon]\n",
    "            \n",
    "            #Retrieve the category_code name (ej:\"stadium\")\n",
    "            # we know the position in the dictionary\n",
    "            lable = markers[category_code][0]\n",
    "            \n",
    "            #Set the marker:\n",
    "            marker = Marker(coordenates, tooltip=lable ,  icon=icon_conf)\n",
    "            \n",
    "            marker.add_to(to_map)\n",
    "        \n",
    "        return"
   ]
  },
  {
   "cell_type": "code",
   "execution_count": 22,
   "id": "09bc6f46",
   "metadata": {},
   "outputs": [],
   "source": [
    "locations = {\n",
    "    \"Madrid\" : [40.4193326,-3.6930825],\n",
    "    \"Barcelona\" : [41.38424664, 2.17634927],\n",
    "    \"Valencia\" : [39.47534441, -0.37565717],\n",
    "    \"Sevilla\" : [37.38620512, -5.99251368]  \n",
    "}\n",
    "\n",
    "location = \"Valencia\""
   ]
  },
  {
   "cell_type": "code",
   "execution_count": 31,
   "id": "9ea80021",
   "metadata": {},
   "outputs": [],
   "source": [
    "city_map = Map([40.4193326,-3.6930825], zoom_start=13,  tiles='CartoDB positron')\n",
    "#city_map"
   ]
  },
  {
   "cell_type": "code",
   "execution_count": null,
   "id": "63b9d033",
   "metadata": {},
   "outputs": [],
   "source": [
    "markers = {\n",
    "    10061: [\"stadium\" , \"orange\", \"black\", \"baseball\"],\n",
    "    16033: [\"dog_park\", \"green\", \"white\", \"dog\"],\n",
    "    13377: [\"vegan_rest\", \"white\", \"green\", \"leaf\"],\n",
    "    10032: [\"nigth_club\", \"black\", \"white\", \"champagne-glasses\"],\n",
    "    19066: [\"transport\", \"blue\", \"white\", \"plane-departure\"],\n",
    "    19031: [\"transport\", \"blue\", \"white\", \"plane-departure\"],\n",
    "    11030: [\"dessing\", \"pink\", \"black\", \"pen-nib\"]\n",
    "    \n",
    "}"
   ]
  },
  {
   "cell_type": "code",
   "execution_count": 38,
   "id": "b7b2ba49",
   "metadata": {},
   "outputs": [
    {
     "data": {
      "text/plain": [
       "lable\n",
       "[10032]    25\n",
       "[13377]    13\n",
       "[11030]     4\n",
       "[]          1\n",
       "Name: count, dtype: int64"
      ]
     },
     "execution_count": 38,
     "metadata": {},
     "output_type": "execute_result"
    }
   ],
   "source": [
    "city = \"Madrid\"\n",
    "    \n",
    "c = access_mdb_local_collection (\"ironhack\", \"madrid\")\n",
    "    \n",
    "filt = {\"location.locality\":city}\n",
    "    \n",
    "projection = { \"_id\":0,\"categories\":1, \"geocodes\":1,\"name\":1}\n",
    "    \n",
    "\n",
    "datos = list(c.find(filt,projection))\n",
    "    \n",
    "register = {\"city\": [], \"place_name\":[], \"lable\":[],\"lat\":[], \"lon\":[]}\n",
    "    \n",
    "    # 5. Iterate trowh all elements found:\n",
    "for i in datos:\n",
    "\n",
    "    info = extract_parameters(i) # info it's a dictionary \n",
    "            # example --> info = {\"name\": name, \"cat_code\":cat_code, \"lat\":lat, \"lon\":lon}\n",
    "            \n",
    "            \n",
    "    name = info[\"name\"]\n",
    "    lable =info[\"cat_code\"]\n",
    "    lat = info[\"lat\"]\n",
    "    lon =  info[\"lon\"]\n",
    "        \n",
    "    register[\"city\"].append(city)\n",
    "    register[\"place_name\"].append(name)\n",
    "    register[\"lable\"].append(lable)\n",
    "    register[\"lat\"].append(lat)\n",
    "    register[\"lon\"].append(lon)\n",
    "\n",
    "    df = pd.DataFrame(register)\n",
    "        \n",
    "df\n",
    "\n",
    "\n",
    "\n",
    "\n",
    "#city_markers(df, city_map)\n",
    "\n",
    "#city_map.save(f\"{location}_city_markmap.html\")\n",
    "\n",
    "#city_map\n",
    "df[\"lable\"].value_counts()"
   ]
  },
  {
   "cell_type": "code",
   "execution_count": null,
   "id": "cb28982a",
   "metadata": {},
   "outputs": [],
   "source": []
  }
 ],
 "metadata": {
  "kernelspec": {
   "display_name": "ironhack",
   "language": "python",
   "name": "ironhack"
  },
  "language_info": {
   "codemirror_mode": {
    "name": "ipython",
    "version": 3
   },
   "file_extension": ".py",
   "mimetype": "text/x-python",
   "name": "python",
   "nbconvert_exporter": "python",
   "pygments_lexer": "ipython3",
   "version": "3.11.5"
  }
 },
 "nbformat": 4,
 "nbformat_minor": 5
}
