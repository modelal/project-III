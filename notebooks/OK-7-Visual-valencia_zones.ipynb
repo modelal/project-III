{
 "cells": [
  {
   "cell_type": "code",
   "execution_count": 120,
   "id": "81fe727a",
   "metadata": {},
   "outputs": [],
   "source": [
    "from pymongo import MongoClient\n",
    "import requests\n",
    "import json\n",
    "import pandas as pd\n",
    "import numpy as np\n",
    "from getpass import getpass\n",
    "import folium\n",
    "from folium import Choropleth, Circle, Marker, Icon, Map\n",
    "from folium.plugins import HeatMap, MarkerCluster"
   ]
  },
  {
   "cell_type": "code",
   "execution_count": 121,
   "id": "aa98b87f",
   "metadata": {},
   "outputs": [],
   "source": [
    "def access_mdb_local_collection (database, collection):\n",
    "\n",
    "    \"\"\" Function that returns a collection inside a DataBase \n",
    "    host in my local Server \"\"\"\n",
    "\n",
    "    # 1. Connect to my local Server\n",
    "    client = MongoClient(\"localhost:27017\")\n",
    "    \n",
    "    # 2. Access a DataBase:\n",
    "    db = client[database]\n",
    "\n",
    "    # 3. Acces a collection inside the given DataBase\n",
    "    c = db.get_collection(collection)\n",
    "\n",
    "    # 4. Return collection into a given DataBase host in a given Server\n",
    "    return c"
   ]
  },
  {
   "cell_type": "markdown",
   "id": "9131550e",
   "metadata": {},
   "source": [
    "### Functions:"
   ]
  },
  {
   "cell_type": "code",
   "execution_count": 122,
   "id": "5ff366d5",
   "metadata": {},
   "outputs": [],
   "source": [
    "def extract_parameters(i):\n",
    "            \n",
    "            name = i[\"name\"]\n",
    "            \n",
    "            lat = i[\"geocodes\"][\"main\"][\"latitude\"]\n",
    "            lon = i[\"geocodes\"][\"main\"][\"longitude\"]\n",
    "            \n",
    "            #can have more than one:\n",
    "            cat_list = [x[\"id\"] for x in i[\"categories\"]]\n",
    "            \n",
    "            try:\n",
    "                city = i[\"location\"][\"locality\"]\n",
    "            except KeyError:\n",
    "                city = np.nan\n",
    "            \n",
    "            params = {\"city\":city, \"name\": name, \"cat_code\":cat_list, \"lat\":lat, \"lon\":lon}\n",
    "            \n",
    "            return params"
   ]
  },
  {
   "cell_type": "code",
   "execution_count": 123,
   "id": "99631229",
   "metadata": {},
   "outputs": [],
   "source": [
    "def city_places(city):\n",
    "    \n",
    "    \"Returs a dataframe with all palces inside a city from our DB\"\n",
    "    \n",
    "    c = access_mdb_local_collection (\"ironhack\", \"foursquare\")\n",
    "    \n",
    "    # 1. Set the filter to the objects\n",
    "    filt = {\"location.locality\":city}\n",
    "    \n",
    "    # 2. Select the filds that we want to target:\n",
    "    projection = { \"_id\":0,\"categories\":1, \"geocodes\":1,\"name\":1, \"location\":1}\n",
    "    \n",
    "    # 3. Extract data\n",
    "    datos = list(c.find(filt,projection))\n",
    "    \n",
    "    # 4. Generate an empty dictionary with the categories to save:\n",
    "    register = {\"city\": [], \"place_name\":[], \"categories\":[],\"lat\":[], \"lon\":[]}\n",
    "    \n",
    "    # 5. Iterate trowh all elements found:\n",
    "    for i in datos:\n",
    "\n",
    "        info = extract_parameters(i) # info it's a dictionary \n",
    "        \n",
    "        register[\"city\"].append(info[\"city\"])\n",
    "        register[\"place_name\"].append(info[\"name\"])\n",
    "        register[\"categories\"].append(info[\"cat_code\"])\n",
    "        register[\"lat\"].append(info[\"lat\"])\n",
    "        register[\"lon\"].append(info[\"lon\"])\n",
    "\n",
    "    df = pd.DataFrame(register)\n",
    "    \n",
    "    return df"
   ]
  },
  {
   "cell_type": "code",
   "execution_count": 124,
   "id": "17030dfa",
   "metadata": {},
   "outputs": [],
   "source": [
    "def icon_set(category_code, tags): # marker of categorye [10051]\n",
    "    \n",
    "    icon =  Icon(\n",
    "            color = tags[category_code][1], #red\n",
    "            icon_color = tags[category_code][2], #black\n",
    "            icon = tags[category_code][3], #dog\n",
    "            prefix=\"fa\" # font-awesome website: fa\n",
    "                )\n",
    "            \n",
    "    return icon"
   ]
  },
  {
   "cell_type": "code",
   "execution_count": 133,
   "id": "1705ca1b",
   "metadata": {},
   "outputs": [],
   "source": [
    "def city_markers(df, to_map, tags):\n",
    "    \n",
    "        for index, row in df.iterrows():\n",
    "            \n",
    "            \n",
    "            # What if there is no categorie?\n",
    "    \n",
    "            if df.iloc[index][\"categories\"] != []: #--> If it's not empty - take the list \n",
    "                \n",
    "                cat_list = df.iloc[index][\"categories\"] \n",
    "                \n",
    "                 # What category select? ?\n",
    "                    \n",
    "                for key in tags: # --> tags = the ones we have defined\n",
    "                    if key in cat_list:    \n",
    "                        category_code = key  # --> we kep the category \n",
    "                    else:\n",
    "                        continue # --> There is no a matching category --> skip  \n",
    "            else: \n",
    "                continue # --> There is no category --> skip \n",
    "\n",
    "           \n",
    "            \n",
    "            lable =  df.iloc[index][\"place_name\"]\n",
    "            \n",
    "            \"\"\" Error that i dont understand -- Investigate \"\"\"\n",
    "            \n",
    "            try:\n",
    "                #Set the icon for that kind of place:\n",
    "                icon_conf = icon_set(category_code, tags)\n",
    "            except UnboundLocalError:\n",
    "                continue\n",
    "            \n",
    "            #Extract position in witch locates:\n",
    "            lat = df.iloc[index][\"lat\"]\n",
    "            lon = df.iloc[index][\"lon\"]\n",
    "            coordenates = [lat, lon]\n",
    "            \n",
    "            #Set the marker:\n",
    "            marker = Marker(coordenates, tooltip=lable ,  icon=icon_conf)\n",
    "            \n",
    "            marker.add_to(to_map)\n",
    "        \n",
    "        return"
   ]
  },
  {
   "cell_type": "code",
   "execution_count": 134,
   "id": "786e935e",
   "metadata": {},
   "outputs": [],
   "source": [
    "def heat_city(df, to_map):\n",
    "    \n",
    "    HeatMap(data = df[[\"lat\", \"lon\"]]).add_to(to_map)\n",
    "        \n",
    "    return"
   ]
  },
  {
   "cell_type": "markdown",
   "id": "7d588592",
   "metadata": {},
   "source": [
    "# Creamos un mapa de tags"
   ]
  },
  {
   "cell_type": "markdown",
   "id": "9594273f",
   "metadata": {},
   "source": [
    "1. Coordenates for each city:"
   ]
  },
  {
   "cell_type": "code",
   "execution_count": 141,
   "id": "e64d4b8c",
   "metadata": {},
   "outputs": [],
   "source": [
    "locations = {\n",
    "    \"Madrid\" : [40.40841191,-3.68760088],\n",
    "    \"Valencia\" : [39.47534441,-0.37565717],\n",
    "    \"Oviedo\" : [43.3622115,-5.8490144]  \n",
    "}"
   ]
  },
  {
   "cell_type": "markdown",
   "id": "0c13543c",
   "metadata": {},
   "source": [
    "2. Set the markers specifications"
   ]
  },
  {
   "cell_type": "code",
   "execution_count": 142,
   "id": "10aefd9a",
   "metadata": {},
   "outputs": [],
   "source": [
    "markers = {\n",
    "    10051: [\"stadium\" , \"orange\", \"black\", \"baseball\"],\n",
    "    16033: [\"dog_park\", \"green\", \"white\", \"dog\"],\n",
    "    13377: [\"vegan_rest\", \"white\", \"green\", \"leaf\"],\n",
    "}"
   ]
  },
  {
   "cell_type": "markdown",
   "id": "771f50f2",
   "metadata": {},
   "source": [
    "### MAIN:"
   ]
  },
  {
   "cell_type": "code",
   "execution_count": 143,
   "id": "2e9ab6bc",
   "metadata": {},
   "outputs": [],
   "source": [
    "#CHANGE THIS VARIABLE TO MAKE THE MAPS:\n",
    "city = \"Oviedo\""
   ]
  },
  {
   "cell_type": "markdown",
   "id": "27027d5e",
   "metadata": {},
   "source": [
    "1.Create df and map for the city:"
   ]
  },
  {
   "cell_type": "code",
   "execution_count": 144,
   "id": "d6241e92",
   "metadata": {},
   "outputs": [],
   "source": [
    "df = city_places(city)\n",
    "city_map =  Map(locations[city], zoom_start=13,  tiles='CartoDB positron')"
   ]
  },
  {
   "cell_type": "markdown",
   "id": "61ba165e",
   "metadata": {},
   "source": [
    "2. Add tags to the map and save"
   ]
  },
  {
   "cell_type": "code",
   "execution_count": 145,
   "id": "d671e8d9",
   "metadata": {},
   "outputs": [],
   "source": [
    "city_markers(df, city_map, markers)\n",
    "city_map.save(f\"{city}_tags_map.html\")"
   ]
  },
  {
   "cell_type": "markdown",
   "id": "cd159206",
   "metadata": {},
   "source": [
    "### DATA DRIVEN DECITIONS\n",
    "\n",
    "\n",
    "    - Oviedo - No vegan enough \n",
    "\n",
    "    - Valencia vs Madrid -- meet indispensables - precio medio/metro cuadrado:\n",
    "\n",
    "        Madrid --> 3852 €/m2\n",
    "\n",
    "        Valencia --> 1627 €/m2\n",
    "\n",
    "Fuente: https://www.fotocasa.es/fotocasa-life/compraventa/conoce-el-precio-de-la-vivienda-en-venta-este-mes/"
   ]
  },
  {
   "cell_type": "code",
   "execution_count": null,
   "id": "d6226e58",
   "metadata": {},
   "outputs": [],
   "source": []
  }
 ],
 "metadata": {
  "kernelspec": {
   "display_name": "ironhack",
   "language": "python",
   "name": "ironhack"
  },
  "language_info": {
   "codemirror_mode": {
    "name": "ipython",
    "version": 3
   },
   "file_extension": ".py",
   "mimetype": "text/x-python",
   "name": "python",
   "nbconvert_exporter": "python",
   "pygments_lexer": "ipython3",
   "version": "3.11.5"
  }
 },
 "nbformat": 4,
 "nbformat_minor": 5
}
