{
 "cells": [
  {
   "cell_type": "code",
   "execution_count": 1,
   "id": "ba5eb101",
   "metadata": {},
   "outputs": [],
   "source": [
    "from pymongo import MongoClient\n",
    "import requests\n",
    "import json\n",
    "import pandas as pd\n",
    "import numpy as np\n",
    "from getpass import getpass\n",
    "import os\n",
    "\n",
    "import folium\n",
    "from folium import Choropleth, Circle, Marker, Icon, Map\n",
    "from folium.plugins import HeatMap, MarkerCluster"
   ]
  },
  {
   "cell_type": "code",
   "execution_count": 2,
   "id": "faaa8bed",
   "metadata": {},
   "outputs": [
    {
     "name": "stdout",
     "output_type": "stream",
     "text": [
      "········\n"
     ]
    }
   ],
   "source": [
    "token = getpass()"
   ]
  },
  {
   "cell_type": "markdown",
   "id": "3a433df4",
   "metadata": {},
   "source": [
    "## Extract from FourSquare API"
   ]
  },
  {
   "cell_type": "code",
   "execution_count": 12,
   "id": "3149e819",
   "metadata": {},
   "outputs": [],
   "source": [
    "def foursquare_places(location, radius, query=\"\" ,category = \"\"):\n",
    "    \n",
    "    \"\"\"\n",
    "    Search for places by distance on a circular boundary in ForeSquare API and returns a .json()\n",
    "    Optional filter, venue and/or category can be added\n",
    "    Response limited to 50 (maximum)\n",
    "\n",
    "    :location: str : \"latidude,longitude\" around which to retrieve place information  eg. \"43.37012643,-8,39114853\"\n",
    "    :radius: int : radius in meters.define the area to bias search results.  eg. 10000\n",
    "    :query: str : OPTIONAL:  a string to be matched against all content for this place\n",
    "    :category: int: OPTIONAL : returns FSQ Places matching the specified id categories\n",
    "       see category taxonomy -->  https://location.foursquare.com/places/docs/categories\n",
    "\n",
    "    \"\"\"\n",
    "\n",
    "\n",
    "    url = \"https://api.foursquare.com/v3/places/search\"\n",
    "\n",
    "    params = {\n",
    "        \"query\": query,\n",
    "        \"ll\": location,\n",
    "        \"radius\":radius,\n",
    "        \"categories\":category,\n",
    "        \"limit\":50,\n",
    "        \"sort\":\"DISTANCE\"  #Por defecto relevancia. \n",
    "    }\n",
    "\n",
    "    headers = {\n",
    "        \"Accept\": \"application/json\",\n",
    "        \"Authorization\": token\n",
    "    }\n",
    "\n",
    "    return requests.get(url, params=params, headers=headers).json()"
   ]
  },
  {
   "cell_type": "markdown",
   "id": "e38087bc",
   "metadata": {},
   "source": [
    "# Acces a db collection"
   ]
  },
  {
   "cell_type": "code",
   "execution_count": 13,
   "id": "d226faed",
   "metadata": {},
   "outputs": [],
   "source": [
    "def access_mdb_local_collection (database, collection):\n",
    "\n",
    "    \"\"\" Function that returns a collection inside a DataBase \n",
    "    host in my local Server \"\"\"\n",
    "\n",
    "    # 1. Connect to my local Server\n",
    "    client = MongoClient(\"localhost:27017\")\n",
    "    \n",
    "    # 2. Access a DataBase:\n",
    "    db = client[database]\n",
    "\n",
    "    # 3. Acces a collection inside the given DataBase\n",
    "    c = db.get_collection(collection)\n",
    "\n",
    "    # 4. Return collection into a given DataBase host in a given Server\n",
    "    return c"
   ]
  },
  {
   "cell_type": "markdown",
   "id": "b680bcb3",
   "metadata": {},
   "source": [
    "## Insert into a given collection:"
   ]
  },
  {
   "cell_type": "code",
   "execution_count": 14,
   "id": "9a3520ae",
   "metadata": {},
   "outputs": [],
   "source": [
    "def insert_unique_parents(response, mdb_collection):\n",
    "    \n",
    "    \"\"\"\n",
    "    Inserts the results of a reques that ARE NOT in the \n",
    "    given collection AND ARE NOT related to other object(childrens)\n",
    "\n",
    "    response: --- : what to insert\n",
    "    collection: ----: where to insert it\n",
    "    \"\"\"\n",
    "    \n",
    "    # 1. set conter for inserted objects\n",
    "    inserted = 0\n",
    "    \n",
    "    # 3. Get the list of all elements alrready registered in the collection\n",
    "    registered = [i['fsq_id'] for i in mdb_collection.find({}, {\"_id\":0,\"fsq_id\":1})]\n",
    "    \n",
    "    # 4. Iterate trough all elements of the response \n",
    "    for i in response[\"results\"]:\n",
    "        \n",
    "        #Need to meet 2 conditions to be inserted:\n",
    "        # It is not alrready registered:\n",
    "        cond1 = i['fsq_id'] not in registered\n",
    "        \n",
    "        ## It's not a children of a parent:\n",
    "        cond2 = \"parent\" not in list(i[\"related_places\"].keys())\n",
    "        \n",
    "        # Check if the conditions are meet:\n",
    "        if cond1 and cond2 == True:\n",
    "            mdb_collection.insert_one(i)\n",
    "            inserted += 1\n",
    "            \n",
    "    print(f'{inserted} items inserted into the collection')\n",
    "               \n",
    "    return"
   ]
  },
  {
   "cell_type": "markdown",
   "id": "73a069a9",
   "metadata": {},
   "source": [
    "## Visualization Functions:"
   ]
  },
  {
   "cell_type": "code",
   "execution_count": 15,
   "id": "3ce47b0c",
   "metadata": {},
   "outputs": [],
   "source": [
    "def extract_parameters(i):\n",
    "            \n",
    "            name = i[\"name\"]\n",
    "            \n",
    "            lat = i[\"geocodes\"][\"main\"][\"latitude\"]\n",
    "            lon = i[\"geocodes\"][\"main\"][\"longitude\"]\n",
    "            \n",
    "            #can have more than one:\n",
    "            cat_list = [x[\"id\"] for x in i[\"categories\"]]\n",
    "            \n",
    "            try:\n",
    "                city = i[\"location\"][\"locality\"]\n",
    "            except KeyError:\n",
    "                city = np.nan\n",
    "            \n",
    "            params = {\"city\":city, \"name\": name, \"cat_code\":cat_list, \"lat\":lat, \"lon\":lon}\n",
    "            \n",
    "            return params"
   ]
  },
  {
   "cell_type": "code",
   "execution_count": 16,
   "id": "ac27ab8d",
   "metadata": {},
   "outputs": [],
   "source": [
    "def heat_map(df, to_map):\n",
    "    \n",
    "    HeatMap(data = df[[\"lat\", \"lon\"]]).add_to(to_map)\n",
    "        \n",
    "    return"
   ]
  },
  {
   "cell_type": "markdown",
   "id": "05943c58",
   "metadata": {},
   "source": [
    "# MAIN:"
   ]
  },
  {
   "cell_type": "markdown",
   "id": "44341046",
   "metadata": {},
   "source": [
    "We are going to extract information for each \"Capital de provincia\""
   ]
  },
  {
   "cell_type": "code",
   "execution_count": 17,
   "id": "7485c1a8",
   "metadata": {},
   "outputs": [],
   "source": [
    "df = pd.read_csv(f\"../data/poblaciones.csv\")"
   ]
  },
  {
   "cell_type": "code",
   "execution_count": 18,
   "id": "858565b0",
   "metadata": {},
   "outputs": [],
   "source": [
    "#Tranforma ligeramente el DF obtenido:\n",
    "df[[\"lat\", \"lon\"]] = df['Lat;Lon'].str.split(';', expand=True)\n",
    "df.drop(columns=['Lat;Lon'], inplace=True)"
   ]
  },
  {
   "cell_type": "markdown",
   "id": "29c44576",
   "metadata": {},
   "source": [
    "Extract Information from FourSquare (function before)"
   ]
  },
  {
   "cell_type": "code",
   "execution_count": 19,
   "id": "48214113",
   "metadata": {},
   "outputs": [
    {
     "name": "stdout",
     "output_type": "stream",
     "text": [
      "0 items inserted into the collection\n",
      "0 items inserted into the collection\n",
      "0 items inserted into the collection\n",
      "0 items inserted into the collection\n",
      "0 items inserted into the collection\n",
      "0 items inserted into the collection\n",
      "0 items inserted into the collection\n",
      "0 items inserted into the collection\n",
      "0 items inserted into the collection\n",
      "0 items inserted into the collection\n",
      "0 items inserted into the collection\n",
      "0 items inserted into the collection\n",
      "0 items inserted into the collection\n",
      "0 items inserted into the collection\n",
      "0 items inserted into the collection\n",
      "0 items inserted into the collection\n",
      "0 items inserted into the collection\n",
      "0 items inserted into the collection\n",
      "0 items inserted into the collection\n",
      "0 items inserted into the collection\n",
      "0 items inserted into the collection\n",
      "0 items inserted into the collection\n",
      "0 items inserted into the collection\n",
      "0 items inserted into the collection\n",
      "0 items inserted into the collection\n",
      "0 items inserted into the collection\n",
      "0 items inserted into the collection\n",
      "0 items inserted into the collection\n",
      "0 items inserted into the collection\n",
      "0 items inserted into the collection\n",
      "0 items inserted into the collection\n",
      "0 items inserted into the collection\n",
      "0 items inserted into the collection\n",
      "0 items inserted into the collection\n",
      "0 items inserted into the collection\n",
      "0 items inserted into the collection\n",
      "0 items inserted into the collection\n",
      "0 items inserted into the collection\n",
      "0 items inserted into the collection\n",
      "0 items inserted into the collection\n",
      "0 items inserted into the collection\n",
      "0 items inserted into the collection\n",
      "0 items inserted into the collection\n",
      "0 items inserted into the collection\n",
      "0 items inserted into the collection\n",
      "0 items inserted into the collection\n",
      "0 items inserted into the collection\n",
      "0 items inserted into the collection\n",
      "0 items inserted into the collection\n",
      "0 items inserted into the collection\n",
      "0 items inserted into the collection\n",
      "0 items inserted into the collection\n"
     ]
    }
   ],
   "source": [
    "#PARA CADA COMUNIDAD AUTONOMA:\n",
    "\n",
    "for index, row in df.iterrows():\n",
    "    \n",
    "    cap = df.iloc[index][\"Capital\"]\n",
    "    \n",
    "    lat = df.iloc[index][\"lat\"].replace(\",\", \".\")\n",
    "    lon = df.iloc[index][\"lon\"].replace(\",\", \".\")\n",
    "    \n",
    "    location = f\"{lat},{lon}\"\n",
    "    radius = 10000 #(10km)\n",
    "    query = \"universidad\"\n",
    "    category = \"\" #12125\n",
    "    \n",
    "    #desabled printing   \n",
    "    #print(f'------------Location {cap} ------------')\n",
    "    \n",
    "    # EXTRACT \n",
    "    response = foursquare_places(location, radius, query ,category)\n",
    "    \n",
    "    #CONCET\n",
    "    mdb_collection = access_mdb_local_collection (\"foursquare\", \"spain_universities\")\n",
    "    \n",
    "    #INSERT:\n",
    "    insert_unique_parents(response, mdb_collection)\n",
    "    \n",
    "    #desable printing\n",
    "    #print(f'---------------------------------------')"
   ]
  },
  {
   "cell_type": "markdown",
   "id": "f94104cf",
   "metadata": {},
   "source": [
    "Generate a Data Frame:"
   ]
  },
  {
   "cell_type": "code",
   "execution_count": 21,
   "id": "26d96ccf",
   "metadata": {},
   "outputs": [],
   "source": [
    "c = access_mdb_local_collection (\"foursquare\", \"spain_universities\")\n",
    "\n",
    "filt = {} #all\n",
    "    \n",
    "# 2. Select the filds that we want to target:\n",
    "projection = { \"_id\":0,\"categories\":1, \"geocodes\":1,\"name\":1, \"location\":1}\n",
    "    \n",
    "# 3. Extract data\n",
    "datos = list(c.find(filt,projection))\n",
    "\n",
    "# 4. Generate an empty dictionary with the categories to save:\n",
    "register = {\"city\":[], \"place_name\":[], \"categories\":[],\"lat\":[], \"lon\":[]}\n",
    "\n",
    "for i in datos:\n",
    "\n",
    "        info = extract_parameters(i) # info it's a dictionary \n",
    "        \n",
    "        register[\"city\"].append(info[\"city\"])\n",
    "        register[\"place_name\"].append(info[\"name\"])\n",
    "        register[\"categories\"].append(info[\"cat_code\"])\n",
    "        register[\"lat\"].append(info[\"lat\"])\n",
    "        register[\"lon\"].append(info[\"lon\"])\n",
    "\n",
    "df = pd.DataFrame(register)"
   ]
  },
  {
   "cell_type": "markdown",
   "id": "a38598d3",
   "metadata": {},
   "source": [
    "Create the map"
   ]
  },
  {
   "cell_type": "code",
   "execution_count": 23,
   "id": "76b815a9",
   "metadata": {},
   "outputs": [],
   "source": [
    "# 1. Set the map:\n",
    "spn_map = Map([40.40841191, -3.68760088], zoom_start=6, tiles='CartoDB positron')\n",
    "\n",
    "# 2. Create the heat Map (function)\n",
    "heat_map(df, spn_map)\n",
    "\n",
    "# 3. Save and open:\n",
    "path = \"../figures/spain_universities.html\"\n",
    "spn_map.save(path)"
   ]
  },
  {
   "cell_type": "code",
   "execution_count": null,
   "id": "53fd6952",
   "metadata": {},
   "outputs": [],
   "source": []
  },
  {
   "cell_type": "code",
   "execution_count": null,
   "id": "7c531532",
   "metadata": {},
   "outputs": [],
   "source": []
  }
 ],
 "metadata": {
  "kernelspec": {
   "display_name": "ironhack",
   "language": "python",
   "name": "ironhack"
  },
  "language_info": {
   "codemirror_mode": {
    "name": "ipython",
    "version": 3
   },
   "file_extension": ".py",
   "mimetype": "text/x-python",
   "name": "python",
   "nbconvert_exporter": "python",
   "pygments_lexer": "ipython3",
   "version": "3.11.5"
  }
 },
 "nbformat": 4,
 "nbformat_minor": 5
}
